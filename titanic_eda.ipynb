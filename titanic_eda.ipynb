{
 "cells": [
  {
   "cell_type": "markdown",
   "id": "7430961d",
   "metadata": {},
   "source": [
    "# Exploratory Data Analysis (EDA) on the Titanic Dataset\n",
    "**Author:** Triveni\n",
    "**Task:** EDA (Data Analyst Internship Task 5)\n",
    "**Date:** 2025-09-29\n",
    "\n",
    "**Goal:** Extract insights using visual and statistical exploration."
   ]
  },
  {
   "cell_type": "code",
   "execution_count": null,
   "id": "ee3c1704",
   "metadata": {},
   "outputs": [],
   "source": [
    "# Cell: Imports\n",
    "import pandas as pd\n",
    "import numpy as np\n",
    "import matplotlib.pyplot as plt\n",
    "import seaborn as sns\n",
    "\n",
    "# visualization settings\n",
    "%matplotlib inline\n",
    "sns.set(style=\"whitegrid\", context='notebook')\n",
    "plt.rcParams['figure.figsize'] = (10,6)"
   ]
  },
  {
   "cell_type": "code",
   "execution_count": null,
   "id": "da5eb71f",
   "metadata": {},
   "outputs": [],
   "source": [
    "# Cell: Load dataset (seaborn built-in Titanic)\n",
    "titanic = sns.load_dataset('titanic')  # convenient; similar to Kaggle's structure\n",
    "df = titanic.copy()\n",
    "df.head()"
   ]
  },
  {
   "cell_type": "code",
   "execution_count": null,
   "id": "18e610dc",
   "metadata": {},
   "outputs": [],
   "source": [
    "# Cell: Quick info and summary\n",
    "print(\"Shape:\", df.shape)\n",
    "print(\"\\nInfo:\")\n",
    "df.info()\n",
    "print(\"\\nNumerical Describe:\")\n",
    "display(df.describe(include=[np.number]))\n",
    "print(\"\\nCategorical Describe:\")\n",
    "display(df.describe(include=['object','category','bool']))"
   ]
  },
  {
   "cell_type": "code",
   "execution_count": null,
   "id": "a78a7d41",
   "metadata": {},
   "outputs": [],
   "source": [
    "# Cell: Missing values\n",
    "missing = df.isnull().sum().sort_values(ascending=False)\n",
    "missing_pct = (missing / len(df) * 100).round(2)\n",
    "pd.DataFrame({'missing_count': missing, 'missing_pct': missing_pct})"
   ]
  },
  {
   "cell_type": "code",
   "execution_count": null,
   "id": "278c60e3",
   "metadata": {},
   "outputs": [],
   "source": [
    "# Cell: Basic counts\n",
    "print(\"Unique values (sample):\")\n",
    "for col in ['survived','sex','class','embarked','who','alive','deck','embark_town','alone']:\n",
    "    if col in df.columns:\n",
    "        print(f\"\\n{col} value counts:\")\n",
    "        display(df[col].value_counts(dropna=False))"
   ]
  },
  {
   "cell_type": "code",
   "execution_count": null,
   "id": "d65b05cb",
   "metadata": {},
   "outputs": [],
   "source": [
    "# Cell: Univariate visualizations - numerical\n",
    "num_cols = ['age','fare','sibsp','parch']  # available numeric-ish columns\n",
    "for col in num_cols:\n",
    "    plt.figure(figsize=(8,4))\n",
    "    sns.histplot(df[col], kde=True, bins=30)\n",
    "    plt.title(f'Distribution of {col}')\n",
    "    plt.tight_layout()\n",
    "    plt.show()"
   ]
  },
  {
   "cell_type": "code",
   "execution_count": null,
   "id": "1562d5d8",
   "metadata": {},
   "outputs": [],
   "source": [
    "# Cell: Univariate - categorical barplots\n",
    "cat_cols = ['sex','class','embarked','who','adult_male','alone']\n",
    "for col in cat_cols:\n",
    "    if col in df.columns:\n",
    "        plt.figure(figsize=(6,4))\n",
    "        sns.countplot(data=df, x=col, order=df[col].value_counts().index)\n",
    "        plt.title(f'Count of {col}')\n",
    "        plt.xticks(rotation=45)\n",
    "        plt.tight_layout()\n",
    "        plt.show()"
   ]
  },
  {
   "cell_type": "code",
   "execution_count": null,
   "id": "6e0361df",
   "metadata": {},
   "outputs": [],
   "source": [
    "# Cell: Bivariate - Survival rate by categorical features\n",
    "cat_features = ['sex','class','who','alone','embarked']\n",
    "for col in cat_features:\n",
    "    if col in df.columns:\n",
    "        plt.figure(figsize=(6,4))\n",
    "        sns.barplot(data=df, x=col, y='survived', ci=None)\n",
    "        plt.title(f'Survival rate by {col}')\n",
    "        plt.ylabel('Survival rate (0-1)')\n",
    "        plt.ylim(0,1)\n",
    "        plt.tight_layout()\n",
    "        plt.show()"
   ]
  },
  {
   "cell_type": "code",
   "execution_count": null,
   "id": "3aebd774",
   "metadata": {},
   "outputs": [],
   "source": [
    "# Cell: Survival vs Age (numerical)\n",
    "plt.figure(figsize=(8,5))\n",
    "sns.boxplot(data=df, x='survived', y='age')\n",
    "plt.title('Age distribution by Survival')\n",
    "plt.xticks([0,1], ['Died','Survived'])\n",
    "plt.tight_layout()\n",
    "plt.show()\n",
    "\n",
    "plt.figure(figsize=(8,5))\n",
    "sns.kdeplot(data=df[df['survived']==1]['age'].dropna(), label='Survived')\n",
    "sns.kdeplot(data=df[df['survived']==0]['age'].dropna(), label='Died')\n",
    "plt.title('Age KDE by Survival')\n",
    "plt.legend()\n",
    "plt.tight_layout()\n",
    "plt.show()"
   ]
  },
  {
   "cell_type": "code",
   "execution_count": null,
   "id": "ed757f76",
   "metadata": {},
   "outputs": [],
   "source": [
    "# Cell: Fare distribution by survival\n",
    "plt.figure(figsize=(8,5))\n",
    "sns.boxplot(data=df, x='survived', y='fare')\n",
    "plt.title('Fare distribution by Survival')\n",
    "plt.xticks([0,1], ['Died','Survived'])\n",
    "plt.tight_layout()\n",
    "plt.show()"
   ]
  },
  {
   "cell_type": "code",
   "execution_count": null,
   "id": "fe6a4d7f",
   "metadata": {},
   "outputs": [],
   "source": [
    "# Cell: Correlation heatmap (numerical features)\n",
    "num_df = df.select_dtypes(include=[np.number])\n",
    "corr = num_df.corr()\n",
    "plt.figure(figsize=(8,6))\n",
    "sns.heatmap(corr, annot=True, cmap='coolwarm', fmt='.2f', vmin=-1, vmax=1)\n",
    "plt.title('Correlation matrix (numerical)')\n",
    "plt.tight_layout()\n",
    "plt.show()"
   ]
  },
  {
   "cell_type": "code",
   "execution_count": null,
   "id": "38f6f9bd",
   "metadata": {},
   "outputs": [],
   "source": [
    "# Cell: Pairplot (subset, to speed up)\n",
    "subset = df[['survived','age','fare','sibsp','parch']].dropna()\n",
    "sns.pairplot(subset, hue='survived', diag_kind='kde', corner=True)\n",
    "plt.suptitle('Pairplot (subset) by Survival', y=1.02)\n",
    "plt.show()"
   ]
  },
  {
   "cell_type": "code",
   "execution_count": null,
   "id": "1ac5f42b",
   "metadata": {},
   "outputs": [],
   "source": [
    "# Cell: Deck & Embarked - missingness insight\n",
    "if 'deck' in df.columns:\n",
    "    plt.figure(figsize=(6,4))\n",
    "    sns.countplot(data=df, x='deck', order=df['deck'].value_counts().index)\n",
    "    plt.title('Count by Deck (many missing = NaN)')\n",
    "    plt.tight_layout()\n",
    "    plt.show()\n",
    "\n",
    "if 'embark_town' in df.columns:\n",
    "    plt.figure(figsize=(6,4))\n",
    "    sns.countplot(data=df, x='embark_town', order=df['embark_town'].value_counts().index)\n",
    "    plt.title('Count by Embark Town')\n",
    "    plt.tight_layout()\n",
    "    plt.show()"
   ]
  },
  {
   "cell_type": "code",
   "execution_count": null,
   "id": "fcb49fe3",
   "metadata": {},
   "outputs": [],
   "source": [
    "# Cell: Handling missing values example (simple feature engineering)\n",
    "df_fe = df.copy()\n",
    "# Fill age with median, embark_town with mode, deck with 'Unknown'\n",
    "df_fe['age'] = df_fe['age'].fillna(df_fe['age'].median())\n",
    "if 'embark_town' in df_fe:\n",
    "    df_fe['embark_town'] = df_fe['embark_town'].fillna(df_fe['embark_town'].mode()[0])\n",
    "if 'deck' in df_fe:\n",
    "    df_fe['deck'] = df_fe['deck'].fillna('Unknown')\n",
    "\n",
    "# Create 'family_size' from sibsp + parch\n",
    "df_fe['family_size'] = df_fe['sibsp'].fillna(0) + df_fe['parch'].fillna(0)\n",
    "df_fe[['age','family_size','deck']].head()"
   ]
  },
  {
   "cell_type": "code",
   "execution_count": null,
   "id": "5448681f",
   "metadata": {},
   "outputs": [],
   "source": [
    "# Cell: Outliers check - fare\n",
    "plt.figure(figsize=(8,4))\n",
    "sns.boxplot(x=df_fe['fare'])\n",
    "plt.title('Fare boxplot (outliers present)')\n",
    "plt.tight_layout()\n",
    "plt.show()"
   ]
  },
  {
   "cell_type": "code",
   "execution_count": null,
   "id": "8433c588",
   "metadata": {},
   "outputs": [],
   "source": [
    "# Cell: Summary statistics and key findings (programmatic)\n",
    "survival_by_sex = df.groupby('sex')['survived'].mean().sort_values(ascending=False)\n",
    "survival_by_class = df.groupby('class')['survived'].mean().sort_values(ascending=False)\n",
    "survival_by_age_group = pd.cut(df['age'], bins=[0,12,18,35,60,100]).astype('category')\n",
    "survival_by_age_group = df.groupby(pd.cut(df['age'], bins=[0,12,18,35,60,100]))['survived'].mean()\n",
    "print(\"Survival rate by sex:\\n\", survival_by_sex)\n",
    "print(\"\\nSurvival rate by class:\\n\", survival_by_class)\n",
    "print(\"\\nSurvival rate by age group:\\n\", survival_by_age_group)"
   ]
  },
  {
   "cell_type": "markdown",
   "id": "abf5cbf2",
   "metadata": {},
   "source": [
    "# Conclusions & Recommendations\n",
    "- Women had significantly higher survival rates than men.\n",
    "- Passengers in higher classes (First) had higher survival rates.\n",
    "- Children (0-12) show reasonably better survival relative to some adult groups; certain age groups had mixed outcomes.\n",
    "- Higher fare correlates weakly with survival (likely proxy for class).\n",
    "- Missing data: `age`, `deck`, `embark_town` notable — handle carefully before modeling.\n",
    "- Recommendations: Impute missing values (median for age), encode categorical variables (one-hot or ordinal where appropriate), create features (family_size, is_alone), remove or cap fare outliers or transform (log)."
   ]
  }
 ],
 "metadata": {
  "kernelspec": {
   "display_name": "Python 3",
   "name": "python3"
  }
 },
 "nbformat": 4,
 "nbformat_minor": 5
}
